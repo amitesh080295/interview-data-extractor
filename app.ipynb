{
 "cells": [
  {
   "attachments": {},
   "cell_type": "markdown",
   "metadata": {},
   "source": [
    "### Extract Data from Calls and Video Transcripts/Interviews"
   ]
  },
  {
   "cell_type": "code",
   "execution_count": 1,
   "metadata": {},
   "outputs": [],
   "source": [
    "import os\n",
    "from dotenv import load_dotenv\n",
    "\n",
    "# For splitting transcript into pieces\n",
    "from langchain.text_splitter import RecursiveCharacterTextSplitter\n",
    "\n",
    "from langchain.chat_models import ChatOpenAI\n",
    "from langchain.chains.summarize import load_summarize_chain\n",
    "\n",
    "# Prompt templates for dynamic values\n",
    "from langchain.prompts.chat import (\n",
    "    ChatPromptTemplate,\n",
    "    SystemMessagePromptTemplate,\n",
    "    AIMessagePromptTemplate,\n",
    "    HumanMessagePromptTemplate\n",
    ")\n",
    "\n",
    "# To create chat messages\n",
    "from langchain.schema import (\n",
    "    AIMessage,\n",
    "    HumanMessage,\n",
    "    SystemMessage\n",
    ")\n",
    "\n",
    "load_dotenv()\n",
    "openai_api_key = os.environ.get('OPENAI_API_KEY')"
   ]
  },
  {
   "attachments": {},
   "cell_type": "markdown",
   "metadata": {},
   "source": [
    "Now we load our data. It is an already formatted transcript of a mock sales call."
   ]
  },
  {
   "cell_type": "code",
   "execution_count": 2,
   "metadata": {},
   "outputs": [],
   "source": [
    "with open('./acme_co_v2.txt', 'r') as file:\n",
    "    content = file.read()"
   ]
  },
  {
   "cell_type": "code",
   "execution_count": 3,
   "metadata": {},
   "outputs": [
    {
     "name": "stdout",
     "output_type": "stream",
     "text": [
      "Transcript:\n",
      "\n",
      "Greg (Marin Transitions Partner): Does this say the call is recording for you at all? \n",
      "\n",
      "Eliza (ACME Co): But it says the request, the report or in here? \n",
      "\n",
      "Greg (Marin Transitions Partner): Nice. All right… one sec. \n"
     ]
    }
   ],
   "source": [
    "print (\"Transcript:\\n\")\n",
    "print(content[:215])"
   ]
  },
  {
   "attachments": {},
   "cell_type": "markdown",
   "metadata": {},
   "source": [
    "Now we split our documents so that we don't run into token issues. "
   ]
  },
  {
   "cell_type": "code",
   "execution_count": 4,
   "metadata": {},
   "outputs": [],
   "source": [
    "text_splitter = RecursiveCharacterTextSplitter(separators=[\"\\n\\n\", \"\\n\"], chunk_size=2000, chunk_overlap=250)\n",
    "texts = text_splitter.create_documents([content])"
   ]
  },
  {
   "cell_type": "code",
   "execution_count": 5,
   "metadata": {},
   "outputs": [
    {
     "name": "stdout",
     "output_type": "stream",
     "text": [
      "You have 5 texts\n"
     ]
    },
    {
     "data": {
      "text/plain": [
       "Document(page_content=\"Greg (Marin Transitions Partner): Does this say the call is recording for you at all? \\n\\nEliza (ACME Co): But it says the request, the report or in here? \\n\\nGreg (Marin Transitions Partner): Nice. All right… one sec. \\n\\nGreg (Marin Transitions Partner): Cool. Absolutely. Well, I tell you what, thank you very much for joining me today. \\n\\nEliza (ACME Co): Yeah, glad to be chatting with you Greg. \\n\\nGreg (Marin Transitions Partner): Absolutely. Well. So, first of all, my name is Greg and I am from Marin transitions and we help people do social modeling on top of their businesses. So say somebody were to mention you on read it or mentioned you on Twitter or Facebook, then we help you understand what they're saying and the sentiment behind it. And I'm very excited to be chatting with you today. My first awesome. Well, I'll tell you what I've looked at your LinkedIn a little bit, but could you tell me more about your position and what you do? \\n\\nEliza (ACME Co): Absolutely. So I am cmo over at acmico and we are a software company that helps nonprofits grow their business. \\n\\nGreg (Marin Transitions Partner): Awesome. That's fabulous. And how many employees does acmico have? \\n\\nEliza (ACME Co): We have about 45 employees today. \\n\\nGreg (Marin Transitions Partner): Nice. That's great. And how big is the marketing team? \\n\\nEliza (ACME Co): The marketing team is, I think seven of us today. \\n\\nGreg (Marin Transitions Partner): Awesome. That's cool. And what technology stack does acme co use? \\n\\nEliza (ACME Co): So, today, we are using slack photoshop, Hubspot, Zoom and Google cloud. \\n\\nGreg (Marin Transitions Partner): That's awesome. And so, because we do social monitoring, I wanna go into a little bit of questions around your social experience, if you will, and what acne code does. So, how many times would you say that you post on social media per month? \\n\\nEliza (ACME Co): I'd say about 10 times a month?\", metadata={})"
      ]
     },
     "execution_count": 5,
     "metadata": {},
     "output_type": "execute_result"
    }
   ],
   "source": [
    "print (f\"You have {len(texts)} texts\")\n",
    "texts[0]"
   ]
  },
  {
   "cell_type": "code",
   "execution_count": 6,
   "metadata": {},
   "outputs": [],
   "source": [
    "llm = ChatOpenAI(temperature=0)"
   ]
  },
  {
   "cell_type": "code",
   "execution_count": 7,
   "metadata": {},
   "outputs": [],
   "source": [
    "chain = load_summarize_chain(llm, chain_type='map_reduce', verbose=True)"
   ]
  },
  {
   "cell_type": "code",
   "execution_count": 9,
   "metadata": {},
   "outputs": [
    {
     "name": "stdout",
     "output_type": "stream",
     "text": [
      "\n",
      "\n",
      "\u001b[1m> Entering new  chain...\u001b[0m\n",
      "\n",
      "\n",
      "\u001b[1m> Entering new  chain...\u001b[0m\n",
      "Prompt after formatting:\n",
      "\u001b[32;1m\u001b[1;3mWrite a concise summary of the following:\n",
      "\n",
      "\n",
      "\"Greg (Marin Transitions Partner): Does this say the call is recording for you at all? \n",
      "\n",
      "Eliza (ACME Co): But it says the request, the report or in here? \n",
      "\n",
      "Greg (Marin Transitions Partner): Nice. All right… one sec. \n",
      "\n",
      "Greg (Marin Transitions Partner): Cool. Absolutely. Well, I tell you what, thank you very much for joining me today. \n",
      "\n",
      "Eliza (ACME Co): Yeah, glad to be chatting with you Greg. \n",
      "\n",
      "Greg (Marin Transitions Partner): Absolutely. Well. So, first of all, my name is Greg and I am from Marin transitions and we help people do social modeling on top of their businesses. So say somebody were to mention you on read it or mentioned you on Twitter or Facebook, then we help you understand what they're saying and the sentiment behind it. And I'm very excited to be chatting with you today. My first awesome. Well, I'll tell you what I've looked at your LinkedIn a little bit, but could you tell me more about your position and what you do? \n",
      "\n",
      "Eliza (ACME Co): Absolutely. So I am cmo over at acmico and we are a software company that helps nonprofits grow their business. \n",
      "\n",
      "Greg (Marin Transitions Partner): Awesome. That's fabulous. And how many employees does acmico have? \n",
      "\n",
      "Eliza (ACME Co): We have about 45 employees today. \n",
      "\n",
      "Greg (Marin Transitions Partner): Nice. That's great. And how big is the marketing team? \n",
      "\n",
      "Eliza (ACME Co): The marketing team is, I think seven of us today. \n",
      "\n",
      "Greg (Marin Transitions Partner): Awesome. That's cool. And what technology stack does acme co use? \n",
      "\n",
      "Eliza (ACME Co): So, today, we are using slack photoshop, Hubspot, Zoom and Google cloud. \n",
      "\n",
      "Greg (Marin Transitions Partner): That's awesome. And so, because we do social monitoring, I wanna go into a little bit of questions around your social experience, if you will, and what acne code does. So, how many times would you say that you post on social media per month? \n",
      "\n",
      "Eliza (ACME Co): I'd say about 10 times a month?\"\n",
      "\n",
      "\n",
      "CONCISE SUMMARY:\u001b[0m\n",
      "Prompt after formatting:\n",
      "\u001b[32;1m\u001b[1;3mWrite a concise summary of the following:\n",
      "\n",
      "\n",
      "\"Eliza (ACME Co): I'd say about 10 times a month? \n",
      "\n",
      "Greg (Marin Transitions Partner): Interesting. And do you do any sort of social monitoring today? Do you know what customers are saying about you on those platforms? \n",
      "\n",
      "Eliza (ACME Co): No, we have no idea. \n",
      "\n",
      "Greg (Marin Transitions Partner): Interesting. And what are the pain points you're having by not being able to do social monitoring? \n",
      "\n",
      "Eliza (ACME Co): Yeah, I'd say the pain points of not having social monitoring revolve around the lack of transparency. So we're by not understanding what our customers are saying about us on social media, that is a disadvantage in a very competitive market. \n",
      "\n",
      "Greg (Marin Transitions Partner): Yeah, absolutely. And would you or I guess, let me rephrase how valuable would it be to you to understand what customers are saying about your brand in real time? \n",
      "\n",
      "Eliza (ACME Co): I think it could have significant value to understand in real time. What's ap? \n",
      "\n",
      "Greg (Marin Transitions Partner): Happening. Nice. And if you were to put a dollar amount on that, what would you say? What would you say? The dollar amount would be? \n",
      "\n",
      "Eliza (ACME Co): I would estimate, you know, if each… having this kind of transparency and visibility into our market, if that enables us to close one more deal per month. Now, with, given our average contract values, I'd say 50,000 dollars. \n",
      "\n",
      "Greg (Marin Transitions Partner): Yeah, no, that's very cool. And who would be the person that would sign off on this purchase? \n",
      "\n",
      "Eliza (ACME Co): So there would be, that would be a committee decision between myself and the rest of the leadership team. But the ultimate signer of the contract would be my CEO Christina. \n",
      "\n",
      "Greg (Marin Transitions Partner): Interesting. And so as we think about this social monitoring even more, what are your priorities for a tool? What would you like to see?\"\n",
      "\n",
      "\n",
      "CONCISE SUMMARY:\u001b[0m\n",
      "Prompt after formatting:\n",
      "\u001b[32;1m\u001b[1;3mWrite a concise summary of the following:\n",
      "\n",
      "\n",
      "\"Greg (Marin Transitions Partner): Interesting. And so as we think about this social monitoring even more, what are your priorities for a tool? What would you like to see? \n",
      "\n",
      "Eliza (ACME Co): I would like to see a tool that is able to accurately… in real time, tell me about… the data that my customers are saying about the company about our product… to stay ahead of, you know, potential risks. So protect that revenue and our existing customers. And then in terms of criteria for a partner, we were looking for someone that we can scale with as we build out our marketing program and someone that's going to offer the hands on white glove support that we need. \n",
      "\n",
      "Greg (Marin Transitions Partner): Yeah, no, that's awesome. And what is the process to get a new deal across the finish? Line? So, what is your evaluation process look like? \n",
      "\n",
      "Eliza (ACME Co): So, it is usually pretty easy process for us being a, an agile team over here. That process looks like I evaluate vendors, narrow that list down. We have about two options narrowed down today, one being your company. And then from there, I'll present and make my recommendations to the CEO. \n",
      "\n",
      "Greg (Marin Transitions Partner): Nice and say you make a decision, you're happy with it, what is the paper process that you need to go through to complete the decision? Is there accounting or legal or anybody? \n",
      "\n",
      "Eliza (ACME Co): Yes, there is a legal and security review as part of the process which would be conducted by our in house council. So you could send through your terms at any point and we could get ahead of that review if that would be… helpful. \n",
      "\n",
      "Greg (Marin Transitions Partner): Yeah, that's sweet. What are the, what other tools are you looking at as a part of this evaluation? \n",
      "\n",
      "Eliza (ACME Co): We're also looking at Hootsuite. \n",
      "\n",
      "Greg (Marin Transitions Partner): Interesting. Well, first, I wanna thank you very much for being such a big supporter of what we're doing here at Marin transitions?\"\n",
      "\n",
      "\n",
      "CONCISE SUMMARY:\u001b[0m\n",
      "Prompt after formatting:\n",
      "\u001b[32;1m\u001b[1;3mWrite a concise summary of the following:\n",
      "\n",
      "\n",
      "\"Eliza (ACME Co): We're also looking at Hootsuite. \n",
      "\n",
      "Greg (Marin Transitions Partner): Interesting. Well, first, I wanna thank you very much for being such a big supporter of what we're doing here at Marin transitions? \n",
      "\n",
      "Eliza (ACME Co): Absolutely. I'm happy to be your champion over here. I think, you know, based on the great conversations that I've had… with your team in the past and my last company… and also your, the recommendations that I've heard in referrals from some of your other customers in my peers have gone a long way. \n",
      "\n",
      "Greg (Marin Transitions Partner): That's awesome. Do you have any questions for me? \n",
      "\n",
      "Eliza (ACME Co): Yeah. So as I mentioned, support is going to be important. I'm sure you're aware everyone is wanting to avoid shelfware these days. So what I'm curious about is how long does it take to get started on your platform? And what does that implementation process look? \n",
      "\n",
      "Greg (Marin Transitions Partner): Absolutely. So the implementation process is really in two parts. Part number one is just gonna be a about an hour long session with one of our implementation partners and your head of social media that's just to make sure that your accounts get set up and that we're doing the tracking properly. Then part two is going to be the actual monitoring part. It takes about four hours to start monitoring, but after that, it'll be available for you in real time and that's just so we can go scrape all the data off the social sites. So that net you should be up and running in about half a day's work. That sounds. \n",
      "\n",
      "Eliza (ACME Co): Perfect.\"\n",
      "\n",
      "\n",
      "CONCISE SUMMARY:\u001b[0m\n",
      "Prompt after formatting:\n",
      "\u001b[32;1m\u001b[1;3mWrite a concise summary of the following:\n",
      "\n",
      "\n",
      "\"Eliza (ACME Co): Perfect. \n",
      "\n",
      "Greg (Marin Transitions Partner): Yeah, absolutely. Well, I tell you what, as a next step, what I'm gonna do is I'm going to share the brochure with you about our company that has all the information you may want on it. And I'm also going to share with you the pricing information as well. And so this is some deck that I'll send over. And so you can see that. And what I would love to do as a follow up is to schedule a new meeting with you for next week, probably on Wednesday. Is there a time that works on Wednesday for you? \n",
      "\n",
      "Eliza (ACME Co): Yes, I'm available any time between two and four PM on Wednesday, Pacific Time. So if you want that invite, I'll go ahead and accept it. \n",
      "\n",
      "Greg (Marin Transitions Partner): Cool. Absolutely. I'll send an invite for that time. \n",
      "\n",
      "Greg (Marin Transitions Partner): One last thing too. I always like to get to know my prospects a bit more on a personal level too. Do you have any pets or animals inside the house that are close to you? \n",
      "\n",
      "Eliza (ACME Co): I do. In fact, I have an Australian Shepherd dog. He's very cute and very crazy. \n",
      "\n",
      "Greg (Marin Transitions Partner): Awesome. No, that's great. And what do you like to do outside of? \n",
      "\n",
      "Eliza (ACME Co): Well, I live in the beautiful bay area in the north bay just north of San Francisco. So my husband and I really enjoy hiking on the nearby trails. We enjoy wine tasting up in wine country… and those are a couple of our favorite things to do on the weekends. \n",
      "\n",
      "Greg (Marin Transitions Partner): That's fabulous. Well, I tell you what, thank you very much for the conversation today and I'll follow up with you next week. \n",
      "\n",
      "Eliza (ACME Co): Great. I'm looking forward to. \n",
      "\n",
      "Greg (Marin Transitions Partner): It all right. We'll see you later. Bye bye.\"\n",
      "\n",
      "\n",
      "CONCISE SUMMARY:\u001b[0m\n",
      "\n",
      "\u001b[1m> Finished chain.\u001b[0m\n",
      "\n",
      "\n",
      "\u001b[1m> Entering new  chain...\u001b[0m\n",
      "Prompt after formatting:\n",
      "\u001b[32;1m\u001b[1;3mWrite a concise summary of the following:\n",
      "\n",
      "\n",
      "\"Greg from Marin Transitions Partner and Eliza from ACME Co are having a conversation. Greg introduces Marin Transitions as a company that helps businesses with social modeling. Eliza explains that she is the CMO of ACME Co, a software company that assists nonprofits. They discuss the size of ACME Co's team and their technology stack. Greg then asks about ACME Co's social media activity, to which Eliza responds that they post about 10 times a month.\n",
      "\n",
      "Eliza from ACME Co admits to having no social monitoring in place and highlights the pain points of not being able to understand what customers are saying about the company on social media. She believes that real-time understanding of customer sentiment could have significant value and estimates it could potentially lead to closing one more deal per month, amounting to $50,000. The decision to purchase a social monitoring tool would involve a committee decision, with the CEO ultimately signing off on the contract. Greg from Marin Transitions Partner asks about ACME Co's priorities for a social monitoring tool.\n",
      "\n",
      "Eliza from ACME Co is looking for a social monitoring tool that can provide real-time data on what customers are saying about their company and products in order to mitigate potential risks and protect revenue. They are also seeking a partner that can scale with their marketing program and provide hands-on support. The evaluation process involves narrowing down vendor options and making recommendations to the CEO. There is a legal and security review conducted by in-house counsel before finalizing the decision. ACME Co is also considering Hootsuite as another tool option.\n",
      "\n",
      "Eliza from ACME Co is considering using Hootsuite and is a supporter of Marin Transitions. She asks about the implementation process and Greg explains that it involves a one-hour session to set up accounts and ensure proper tracking, followed by four hours to start monitoring. Overall, the process should take about half a day's work. Eliza is satisfied with this information.\n",
      "\n",
      "Eliza and Greg discuss next steps for their business partnership, including sharing brochures and pricing information. They schedule a follow-up meeting for next week and also discuss personal interests, such as pets and hobbies. They conclude the conversation and plan to reconnect in the future.\"\n",
      "\n",
      "\n",
      "CONCISE SUMMARY:\u001b[0m\n",
      "\n",
      "\u001b[1m> Finished chain.\u001b[0m\n",
      "\n",
      "\u001b[1m> Finished chain.\u001b[0m\n"
     ]
    }
   ],
   "source": [
    "output = chain.run(texts)"
   ]
  },
  {
   "cell_type": "code",
   "execution_count": 10,
   "metadata": {},
   "outputs": [
    {
     "name": "stdout",
     "output_type": "stream",
     "text": [
      "Greg from Marin Transitions Partner and Eliza from ACME Co discuss ACME Co's social media activity and the need for a social monitoring tool. Eliza believes real-time understanding of customer sentiment could lead to closing more deals. ACME Co is looking for a tool that provides real-time data, scalability, and hands-on support. They are considering Hootsuite as an option. The implementation process is explained to Eliza, and she is satisfied. They discuss next steps for their partnership and personal interests before concluding the conversation.\n"
     ]
    }
   ],
   "source": [
    "print(output)"
   ]
  },
  {
   "attachments": {},
   "cell_type": "markdown",
   "metadata": {},
   "source": [
    "Not bad, but it's giving us the perspective of a 3rd party watching the conversation that is agnostic to the content. I want the AI bot to me on our side! We'll need to switch up the prompts to do this."
   ]
  },
  {
   "attachments": {},
   "cell_type": "markdown",
   "metadata": {},
   "source": [
    "### Custom Prompts"
   ]
  },
  {
   "cell_type": "code",
   "execution_count": 11,
   "metadata": {},
   "outputs": [],
   "source": [
    "template=\"\"\"\n",
    "\n",
    "You are a helpful assistant that helps {sales_rep_name}, a sales rep at {sales_rep_company}, summarize information from a sales call.\n",
    "Your goal is to write a summary from the perspective of {sales_rep_name} that will highlight key points that will be relevant to making a sale\n",
    "Do not respond with anything outside of the call transcript. If you don't know, say, \"I don't know\"\n",
    "Do not repeat {sales_rep_name}'s name in your output\n",
    "\n",
    "\"\"\"\n",
    "system_message_prompt = SystemMessagePromptTemplate.from_template(template)\n",
    "human_template = '{text}'\n",
    "human_message_prompt = HumanMessagePromptTemplate.from_template(human_template)"
   ]
  },
  {
   "cell_type": "code",
   "execution_count": 12,
   "metadata": {},
   "outputs": [],
   "source": [
    "chat_prompt = ChatPromptTemplate.from_messages(messages=[system_message_prompt, human_message_prompt])"
   ]
  },
  {
   "cell_type": "code",
   "execution_count": 13,
   "metadata": {},
   "outputs": [],
   "source": [
    "chain = load_summarize_chain(\n",
    "    llm,\n",
    "    chain_type='map_reduce',\n",
    "    map_prompt=chat_prompt\n",
    ")"
   ]
  },
  {
   "cell_type": "code",
   "execution_count": 14,
   "metadata": {},
   "outputs": [],
   "source": [
    "output = chain.run({\n",
    "    'input_documents': texts,\n",
    "    'sales_rep_company': 'Marin Transitions Partner',\n",
    "    'sales_rep_name': 'Greg'\n",
    "})"
   ]
  },
  {
   "cell_type": "code",
   "execution_count": 15,
   "metadata": {},
   "outputs": [
    {
     "name": "stdout",
     "output_type": "stream",
     "text": [
      "During a sales call, Greg from Marin Transitions Partner spoke with Eliza from ACME Co. Greg introduced his company and asked about Eliza's position and the size of ACME Co's marketing team. Eliza mentioned that ACME Co has 45 employees and a marketing team of seven. Greg also asked about ACME Co's technology stack and social media activity. Eliza expressed that ACME Co has no visibility into what customers are saying about them on social media and that this lack of transparency is a pain point for them. She estimated that having this transparency could help them close one more deal per month, worth around $50,000. Eliza expressed interest in a tool that provides social monitoring and visibility into their market. ACME Co is considering two vendors, including Marin Transitions Partner, and the evaluation process involves presenting recommendations to the CEO and conducting a legal and security review. Eliza mentioned that they are also considering Hootsuite. Greg thanked Eliza for her support and discussed the implementation process, which should take about half a day's work. The call ended with Greg scheduling a follow-up meeting and expressing his excitement.\n"
     ]
    }
   ],
   "source": [
    "print(output)"
   ]
  },
  {
   "attachments": {},
   "cell_type": "markdown",
   "metadata": {},
   "source": [
    "Better! But say I wanted to change the format of the output without needing the user to do extra prompting."
   ]
  },
  {
   "attachments": {},
   "cell_type": "markdown",
   "metadata": {},
   "source": [
    "### Promptless Changes"
   ]
  },
  {
   "cell_type": "code",
   "execution_count": 16,
   "metadata": {},
   "outputs": [],
   "source": [
    "summary_output_options = {\n",
    "    'one_sentence' : \"\"\"\n",
    "     - Only one sentence\n",
    "    \"\"\",\n",
    "    \n",
    "    'bullet_points': \"\"\"\n",
    "     - Bullet point format\n",
    "     - Separate each bullet point with a new line\n",
    "     - Each bullet point should be concise\n",
    "    \"\"\",\n",
    "    \n",
    "    'short' : \"\"\"\n",
    "     - A few short sentences\n",
    "     - Do not go longer than 4-5 sentences\n",
    "    \"\"\",\n",
    "    \n",
    "    'long' : \"\"\"\n",
    "     - A verbose summary\n",
    "     - You may do a few paragraphs to describe the transcript if needed\n",
    "    \"\"\"\n",
    "}"
   ]
  },
  {
   "attachments": {},
   "cell_type": "markdown",
   "metadata": {},
   "source": [
    "Create a new template that takes an additional parameter. I need to put this in the combined prompt so that the LLM will output in my format. If I did this in the map section I would lose the format after the combined prompt was done\n",
    "\n",
    "**Map Prompt**"
   ]
  },
  {
   "cell_type": "code",
   "execution_count": 17,
   "metadata": {},
   "outputs": [],
   "source": [
    "template=\"\"\"\n",
    "\n",
    "You are a helpful assistant that helps {sales_rep_name}, a sales rep at {sales_rep_company}, summarize information from a sales call.\n",
    "Your goal is to write a summary from the perspective of Greg that will highlight key points that will be relevant to making a sale\n",
    "Do not respond with anything outside of the call transcript. If you don't know, say, \"I don't know\"\n",
    "\"\"\"\n",
    "system_message_prompt_map = SystemMessagePromptTemplate.from_template(template)\n",
    "\n",
    "human_template=\"{text}\" # Simply just pass the text as a human message\n",
    "human_message_prompt_map = HumanMessagePromptTemplate.from_template(human_template)\n",
    "\n",
    "chat_prompt_map = ChatPromptTemplate.from_messages(messages=[system_message_prompt_map, human_message_prompt_map])"
   ]
  },
  {
   "attachments": {},
   "cell_type": "markdown",
   "metadata": {},
   "source": [
    "**Combined Prompt**"
   ]
  },
  {
   "cell_type": "code",
   "execution_count": 18,
   "metadata": {},
   "outputs": [],
   "source": [
    "template=\"\"\"\n",
    "\n",
    "You are a helpful assistant that helps {sales_rep_name}, a sales rep at {sales_rep_company}, summarize information from a sales call.\n",
    "Your goal is to write a summary from the perspective of Greg that will highlight key points that will be relevant to making a sale\n",
    "Do not respond with anything outside of the call transcript. If you don't know, say, \"I don't know\"\n",
    "\n",
    "Respond with the following format\n",
    "{output_format}\n",
    "\n",
    "\"\"\"\n",
    "system_message_prompt_combine = SystemMessagePromptTemplate.from_template(template)\n",
    "\n",
    "human_template=\"{text}\" # Simply just pass the text as a human message\n",
    "human_message_prompt_combine = HumanMessagePromptTemplate.from_template(human_template)\n",
    "\n",
    "chat_prompt_combine = ChatPromptTemplate.from_messages(messages=[system_message_prompt_combine, human_message_prompt_combine])"
   ]
  },
  {
   "cell_type": "code",
   "execution_count": 19,
   "metadata": {},
   "outputs": [],
   "source": [
    "chain = load_summarize_chain(llm,\n",
    "                             chain_type=\"map_reduce\",\n",
    "                             map_prompt=chat_prompt_map,\n",
    "                             combine_prompt=chat_prompt_combine,\n",
    "                             verbose=True\n",
    "                            )"
   ]
  },
  {
   "cell_type": "code",
   "execution_count": 20,
   "metadata": {},
   "outputs": [
    {
     "name": "stdout",
     "output_type": "stream",
     "text": [
      "\n",
      "\n",
      "\u001b[1m> Entering new  chain...\u001b[0m\n",
      "\n",
      "\n",
      "\u001b[1m> Entering new  chain...\u001b[0m\n",
      "Prompt after formatting:\n",
      "\u001b[32;1m\u001b[1;3mSystem: \n",
      "\n",
      "You are a helpful assistant that helps Greg, a sales rep at Marin Transitions Partner, summarize information from a sales call.\n",
      "Your goal is to write a summary from the perspective of Greg that will highlight key points that will be relevant to making a sale\n",
      "Do not respond with anything outside of the call transcript. If you don't know, say, \"I don't know\"\n",
      "\n",
      "Human: Greg (Marin Transitions Partner): Does this say the call is recording for you at all? \n",
      "\n",
      "Eliza (ACME Co): But it says the request, the report or in here? \n",
      "\n",
      "Greg (Marin Transitions Partner): Nice. All right… one sec. \n",
      "\n",
      "Greg (Marin Transitions Partner): Cool. Absolutely. Well, I tell you what, thank you very much for joining me today. \n",
      "\n",
      "Eliza (ACME Co): Yeah, glad to be chatting with you Greg. \n",
      "\n",
      "Greg (Marin Transitions Partner): Absolutely. Well. So, first of all, my name is Greg and I am from Marin transitions and we help people do social modeling on top of their businesses. So say somebody were to mention you on read it or mentioned you on Twitter or Facebook, then we help you understand what they're saying and the sentiment behind it. And I'm very excited to be chatting with you today. My first awesome. Well, I'll tell you what I've looked at your LinkedIn a little bit, but could you tell me more about your position and what you do? \n",
      "\n",
      "Eliza (ACME Co): Absolutely. So I am cmo over at acmico and we are a software company that helps nonprofits grow their business. \n",
      "\n",
      "Greg (Marin Transitions Partner): Awesome. That's fabulous. And how many employees does acmico have? \n",
      "\n",
      "Eliza (ACME Co): We have about 45 employees today. \n",
      "\n",
      "Greg (Marin Transitions Partner): Nice. That's great. And how big is the marketing team? \n",
      "\n",
      "Eliza (ACME Co): The marketing team is, I think seven of us today. \n",
      "\n",
      "Greg (Marin Transitions Partner): Awesome. That's cool. And what technology stack does acme co use? \n",
      "\n",
      "Eliza (ACME Co): So, today, we are using slack photoshop, Hubspot, Zoom and Google cloud. \n",
      "\n",
      "Greg (Marin Transitions Partner): That's awesome. And so, because we do social monitoring, I wanna go into a little bit of questions around your social experience, if you will, and what acne code does. So, how many times would you say that you post on social media per month? \n",
      "\n",
      "Eliza (ACME Co): I'd say about 10 times a month?\u001b[0m\n",
      "Prompt after formatting:\n",
      "\u001b[32;1m\u001b[1;3mSystem: \n",
      "\n",
      "You are a helpful assistant that helps Greg, a sales rep at Marin Transitions Partner, summarize information from a sales call.\n",
      "Your goal is to write a summary from the perspective of Greg that will highlight key points that will be relevant to making a sale\n",
      "Do not respond with anything outside of the call transcript. If you don't know, say, \"I don't know\"\n",
      "\n",
      "Human: Eliza (ACME Co): I'd say about 10 times a month? \n",
      "\n",
      "Greg (Marin Transitions Partner): Interesting. And do you do any sort of social monitoring today? Do you know what customers are saying about you on those platforms? \n",
      "\n",
      "Eliza (ACME Co): No, we have no idea. \n",
      "\n",
      "Greg (Marin Transitions Partner): Interesting. And what are the pain points you're having by not being able to do social monitoring? \n",
      "\n",
      "Eliza (ACME Co): Yeah, I'd say the pain points of not having social monitoring revolve around the lack of transparency. So we're by not understanding what our customers are saying about us on social media, that is a disadvantage in a very competitive market. \n",
      "\n",
      "Greg (Marin Transitions Partner): Yeah, absolutely. And would you or I guess, let me rephrase how valuable would it be to you to understand what customers are saying about your brand in real time? \n",
      "\n",
      "Eliza (ACME Co): I think it could have significant value to understand in real time. What's ap? \n",
      "\n",
      "Greg (Marin Transitions Partner): Happening. Nice. And if you were to put a dollar amount on that, what would you say? What would you say? The dollar amount would be? \n",
      "\n",
      "Eliza (ACME Co): I would estimate, you know, if each… having this kind of transparency and visibility into our market, if that enables us to close one more deal per month. Now, with, given our average contract values, I'd say 50,000 dollars. \n",
      "\n",
      "Greg (Marin Transitions Partner): Yeah, no, that's very cool. And who would be the person that would sign off on this purchase? \n",
      "\n",
      "Eliza (ACME Co): So there would be, that would be a committee decision between myself and the rest of the leadership team. But the ultimate signer of the contract would be my CEO Christina. \n",
      "\n",
      "Greg (Marin Transitions Partner): Interesting. And so as we think about this social monitoring even more, what are your priorities for a tool? What would you like to see?\u001b[0m\n",
      "Prompt after formatting:\n",
      "\u001b[32;1m\u001b[1;3mSystem: \n",
      "\n",
      "You are a helpful assistant that helps Greg, a sales rep at Marin Transitions Partner, summarize information from a sales call.\n",
      "Your goal is to write a summary from the perspective of Greg that will highlight key points that will be relevant to making a sale\n",
      "Do not respond with anything outside of the call transcript. If you don't know, say, \"I don't know\"\n",
      "\n",
      "Human: Greg (Marin Transitions Partner): Interesting. And so as we think about this social monitoring even more, what are your priorities for a tool? What would you like to see? \n",
      "\n",
      "Eliza (ACME Co): I would like to see a tool that is able to accurately… in real time, tell me about… the data that my customers are saying about the company about our product… to stay ahead of, you know, potential risks. So protect that revenue and our existing customers. And then in terms of criteria for a partner, we were looking for someone that we can scale with as we build out our marketing program and someone that's going to offer the hands on white glove support that we need. \n",
      "\n",
      "Greg (Marin Transitions Partner): Yeah, no, that's awesome. And what is the process to get a new deal across the finish? Line? So, what is your evaluation process look like? \n",
      "\n",
      "Eliza (ACME Co): So, it is usually pretty easy process for us being a, an agile team over here. That process looks like I evaluate vendors, narrow that list down. We have about two options narrowed down today, one being your company. And then from there, I'll present and make my recommendations to the CEO. \n",
      "\n",
      "Greg (Marin Transitions Partner): Nice and say you make a decision, you're happy with it, what is the paper process that you need to go through to complete the decision? Is there accounting or legal or anybody? \n",
      "\n",
      "Eliza (ACME Co): Yes, there is a legal and security review as part of the process which would be conducted by our in house council. So you could send through your terms at any point and we could get ahead of that review if that would be… helpful. \n",
      "\n",
      "Greg (Marin Transitions Partner): Yeah, that's sweet. What are the, what other tools are you looking at as a part of this evaluation? \n",
      "\n",
      "Eliza (ACME Co): We're also looking at Hootsuite. \n",
      "\n",
      "Greg (Marin Transitions Partner): Interesting. Well, first, I wanna thank you very much for being such a big supporter of what we're doing here at Marin transitions?\u001b[0m\n",
      "Prompt after formatting:\n",
      "\u001b[32;1m\u001b[1;3mSystem: \n",
      "\n",
      "You are a helpful assistant that helps Greg, a sales rep at Marin Transitions Partner, summarize information from a sales call.\n",
      "Your goal is to write a summary from the perspective of Greg that will highlight key points that will be relevant to making a sale\n",
      "Do not respond with anything outside of the call transcript. If you don't know, say, \"I don't know\"\n",
      "\n",
      "Human: Eliza (ACME Co): We're also looking at Hootsuite. \n",
      "\n",
      "Greg (Marin Transitions Partner): Interesting. Well, first, I wanna thank you very much for being such a big supporter of what we're doing here at Marin transitions? \n",
      "\n",
      "Eliza (ACME Co): Absolutely. I'm happy to be your champion over here. I think, you know, based on the great conversations that I've had… with your team in the past and my last company… and also your, the recommendations that I've heard in referrals from some of your other customers in my peers have gone a long way. \n",
      "\n",
      "Greg (Marin Transitions Partner): That's awesome. Do you have any questions for me? \n",
      "\n",
      "Eliza (ACME Co): Yeah. So as I mentioned, support is going to be important. I'm sure you're aware everyone is wanting to avoid shelfware these days. So what I'm curious about is how long does it take to get started on your platform? And what does that implementation process look? \n",
      "\n",
      "Greg (Marin Transitions Partner): Absolutely. So the implementation process is really in two parts. Part number one is just gonna be a about an hour long session with one of our implementation partners and your head of social media that's just to make sure that your accounts get set up and that we're doing the tracking properly. Then part two is going to be the actual monitoring part. It takes about four hours to start monitoring, but after that, it'll be available for you in real time and that's just so we can go scrape all the data off the social sites. So that net you should be up and running in about half a day's work. That sounds. \n",
      "\n",
      "Eliza (ACME Co): Perfect.\u001b[0m\n",
      "Prompt after formatting:\n",
      "\u001b[32;1m\u001b[1;3mSystem: \n",
      "\n",
      "You are a helpful assistant that helps Greg, a sales rep at Marin Transitions Partner, summarize information from a sales call.\n",
      "Your goal is to write a summary from the perspective of Greg that will highlight key points that will be relevant to making a sale\n",
      "Do not respond with anything outside of the call transcript. If you don't know, say, \"I don't know\"\n",
      "\n",
      "Human: Eliza (ACME Co): Perfect. \n",
      "\n",
      "Greg (Marin Transitions Partner): Yeah, absolutely. Well, I tell you what, as a next step, what I'm gonna do is I'm going to share the brochure with you about our company that has all the information you may want on it. And I'm also going to share with you the pricing information as well. And so this is some deck that I'll send over. And so you can see that. And what I would love to do as a follow up is to schedule a new meeting with you for next week, probably on Wednesday. Is there a time that works on Wednesday for you? \n",
      "\n",
      "Eliza (ACME Co): Yes, I'm available any time between two and four PM on Wednesday, Pacific Time. So if you want that invite, I'll go ahead and accept it. \n",
      "\n",
      "Greg (Marin Transitions Partner): Cool. Absolutely. I'll send an invite for that time. \n",
      "\n",
      "Greg (Marin Transitions Partner): One last thing too. I always like to get to know my prospects a bit more on a personal level too. Do you have any pets or animals inside the house that are close to you? \n",
      "\n",
      "Eliza (ACME Co): I do. In fact, I have an Australian Shepherd dog. He's very cute and very crazy. \n",
      "\n",
      "Greg (Marin Transitions Partner): Awesome. No, that's great. And what do you like to do outside of? \n",
      "\n",
      "Eliza (ACME Co): Well, I live in the beautiful bay area in the north bay just north of San Francisco. So my husband and I really enjoy hiking on the nearby trails. We enjoy wine tasting up in wine country… and those are a couple of our favorite things to do on the weekends. \n",
      "\n",
      "Greg (Marin Transitions Partner): That's fabulous. Well, I tell you what, thank you very much for the conversation today and I'll follow up with you next week. \n",
      "\n",
      "Eliza (ACME Co): Great. I'm looking forward to. \n",
      "\n",
      "Greg (Marin Transitions Partner): It all right. We'll see you later. Bye bye.\u001b[0m\n",
      "\n",
      "\u001b[1m> Finished chain.\u001b[0m\n",
      "\n",
      "\n",
      "\u001b[1m> Entering new  chain...\u001b[0m\n",
      "Prompt after formatting:\n",
      "\u001b[32;1m\u001b[1;3mSystem: \n",
      "\n",
      "You are a helpful assistant that helps Greg, a sales rep at Marin Transitions Partner, summarize information from a sales call.\n",
      "Your goal is to write a summary from the perspective of Greg that will highlight key points that will be relevant to making a sale\n",
      "Do not respond with anything outside of the call transcript. If you don't know, say, \"I don't know\"\n",
      "\n",
      "Respond with the following format\n",
      "\n",
      "     - Only one sentence\n",
      "    \n",
      "\n",
      "\n",
      "Human: Summary:\n",
      "\n",
      "During the sales call, Greg introduced himself as a representative from Marin Transitions, a company that helps businesses with social modeling. He explained that their service involves monitoring social media platforms like Reddit, Twitter, and Facebook to understand what people are saying about a business and the sentiment behind it. Greg expressed his excitement about the call and asked Eliza, the representative from ACME Co, to tell him more about her position and what ACME Co does.\n",
      "\n",
      "Eliza explained that she is the CMO of ACME Co, a software company that helps nonprofits grow their business. She mentioned that ACME Co currently has 45 employees and a marketing team of seven people. Greg then asked about the technology stack that ACME Co uses, and Eliza listed Slack, Photoshop, HubSpot, Zoom, and Google Cloud as their current tools.\n",
      "\n",
      "Moving on to the topic of social media, Greg asked Eliza how often ACME Co posts on social media per month. Eliza estimated that they post about 10 times a month.\n",
      "\n",
      "Overall, the call focused on gathering information about ACME Co's position, size, and social media presence, which will be relevant for Marin Transitions to tailor their social modeling services to ACME Co's needs.\n",
      "\n",
      "From the call, it is clear that ACME Co does not currently do any social monitoring and has no idea what customers are saying about them on social media platforms. The lack of transparency is seen as a disadvantage in a competitive market. ACME Co sees significant value in understanding what customers are saying about their brand in real time. They estimate that having this kind of transparency and visibility could enable them to close one more deal per month, with an average contract value of $50,000. The purchase decision would be made by a committee, with the CEO Christina being the ultimate signer of the contract. ACME Co's priorities for a social monitoring tool are not explicitly mentioned in the call.\n",
      "\n",
      "Summary:\n",
      "\n",
      "During the sales call, Greg from Marin Transitions Partner asked Eliza from ACME Co about her priorities for a social monitoring tool. Eliza mentioned that she wants a tool that can accurately and in real-time provide information about what customers are saying about their company and products. She wants to stay ahead of potential risks and protect revenue and existing customers. In terms of criteria for a partner, Eliza is looking for a company that can scale with them as they build out their marketing program and provide hands-on white glove support.\n",
      "\n",
      "Greg also asked about the evaluation process for a new deal. Eliza explained that as an agile team, their process involves evaluating vendors, narrowing down the options, and making recommendations to the CEO. Once a decision is made, there is a legal and security review conducted by their in-house counsel.\n",
      "\n",
      "Greg inquired about other tools being considered in the evaluation, and Eliza mentioned that they are also looking at Hootsuite.\n",
      "\n",
      "Overall, Eliza expressed her support for what Marin Transitions Partner is doing, and Greg thanked her for being a big supporter.\n",
      "\n",
      "Based on the sales call, Eliza from ACME Co is interested in Marin Transitions Partner's platform and is considering Hootsuite as well. She mentions that she has had great conversations with Marin Transitions Partner's team in the past and has heard positive recommendations from other customers and peers. \n",
      "\n",
      "Eliza emphasizes the importance of support and asks about the implementation process and how long it takes to get started on the platform. Greg explains that the implementation process consists of a one-hour session with an implementation partner and the head of social media to set up accounts and ensure proper tracking. The monitoring part takes about four hours to start, but after that, the platform will be available in real time. Greg assures Eliza that they can be up and running in about half a day's work.\n",
      "\n",
      "Overall, Eliza is interested in Marin Transitions Partner's platform and is concerned about support and the implementation process. Greg provides information about the implementation process and assures Eliza that they can get started quickly.\n",
      "\n",
      "Summary:\n",
      "\n",
      "During the sales call, Greg discussed the next steps with Eliza from ACME Co. He mentioned that he will share a brochure about their company and pricing information. Greg also proposed scheduling a follow-up meeting for next week on Wednesday. Eliza confirmed her availability between 2 and 4 PM Pacific Time and agreed to accept the invite. \n",
      "\n",
      "Towards the end of the call, Greg asked about Eliza's pets and she mentioned having an Australian Shepherd dog. They also briefly discussed their personal interests, with Eliza mentioning that she enjoys hiking on nearby trails and wine tasting in wine country. \n",
      "\n",
      "Greg thanked Eliza for the conversation and expressed his intention to follow up next week. Eliza expressed her anticipation for the next meeting.\u001b[0m\n",
      "\n",
      "\u001b[1m> Finished chain.\u001b[0m\n",
      "\n",
      "\u001b[1m> Finished chain.\u001b[0m\n"
     ]
    }
   ],
   "source": [
    "user_selection = 'one_sentence'\n",
    "\n",
    "output = chain.run({\n",
    "                    \"input_documents\": texts,\n",
    "                    \"sales_rep_company\": \"Marin Transitions Partner\", \\\n",
    "                    \"sales_rep_name\" : \"Greg\",\n",
    "                    \"output_format\" : summary_output_options[user_selection]\n",
    "                   })"
   ]
  },
  {
   "cell_type": "code",
   "execution_count": 21,
   "metadata": {},
   "outputs": [
    {
     "name": "stdout",
     "output_type": "stream",
     "text": [
      "Summary:\n",
      "\n",
      "During the sales call, Greg from Marin Transitions Partner discussed the next steps with Eliza from ACME Co, including sharing a brochure and pricing information, and scheduling a follow-up meeting for next week. They also briefly discussed personal interests, with Eliza mentioning her Australian Shepherd dog and hobbies like hiking and wine tasting.\n"
     ]
    }
   ],
   "source": [
    "print(output)"
   ]
  }
 ],
 "metadata": {
  "kernelspec": {
   "display_name": "venv",
   "language": "python",
   "name": "python3"
  },
  "language_info": {
   "codemirror_mode": {
    "name": "ipython",
    "version": 3
   },
   "file_extension": ".py",
   "mimetype": "text/x-python",
   "name": "python",
   "nbconvert_exporter": "python",
   "pygments_lexer": "ipython3",
   "version": "3.9.17"
  },
  "orig_nbformat": 4
 },
 "nbformat": 4,
 "nbformat_minor": 2
}
